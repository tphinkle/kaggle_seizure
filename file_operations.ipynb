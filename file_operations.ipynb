{
 "cells": [
  {
   "cell_type": "code",
   "execution_count": 2,
   "metadata": {
    "collapsed": true
   },
   "outputs": [],
   "source": [
    "import numpy as np\n",
    "import pandas as pd\n",
    "import os"
   ]
  },
  {
   "cell_type": "markdown",
   "metadata": {},
   "source": [
    "# Sequester all files with all zero channel data"
   ]
  },
  {
   "cell_type": "code",
   "execution_count": 1,
   "metadata": {
    "collapsed": true
   },
   "outputs": [],
   "source": [
    "def mat_to_pandas(path):\n",
    "    # Load the matlab data\n",
    "    mat = scipy.io.loadmat(path)\n",
    "    \n",
    "    # Get keys in dataStruct key\n",
    "    names = mat['dataStruct'].dtype.names\n",
    "    \n",
    "    # Get data from each subkey in names\n",
    "    ndata = {n: mat['dataStruct'][n][0, 0] for n in names}\n",
    "    \n",
    "    # Create pandas data frame\n",
    "    return pd.DataFrame(ndata['data'], columns=[str(int(ele-1)) for ele in ndata['channelIndices'][0]])\n",
    "\n",
    "def get_channel(dataframe, channel):\n",
    "    return dataframe[str(channel)].values"
   ]
  },
  {
   "cell_type": "code",
   "execution_count": null,
   "metadata": {
    "collapsed": true
   },
   "outputs": [],
   "source": [
    "main_dir = '/home/preston/Desktop/Programming/datasci/projects/eeg_seizure/data/train_1/'"
   ]
  },
  {
   "cell_type": "code",
   "execution_count": null,
   "metadata": {
    "collapsed": true
   },
   "outputs": [],
   "source": [
    "def sequester_file(file_path, new_file_directory):\n",
    "    file_name = file_path.split('/')[-1]\n",
    "    current_directory = ''\n",
    "    for ele in file_path.split('/')[0:-1]:\n",
    "        current_directory += (ele + '/')\n",
    "    os.rename(file_path, new_file_directory + file_name)"
   ]
  },
  {
   "cell_type": "code",
   "execution_count": null,
   "metadata": {
    "collapsed": true
   },
   "outputs": [],
   "source": [
    "for i in xrange(len(interictal_file_paths)):\n",
    "    try:\n",
    "        interictal_df = mat_to_pandas(interictal_file_paths[i])\n",
    "        preictal_df = mat_to_pandas(preictal_file_paths[i])\n",
    "                \n",
    "        interictal_sequester = False\n",
    "        # Check interictal all zeroes\n",
    "        for j in range(num_channels):\n",
    "            ch_data = get_channel(interictal_df, j)\n",
    "            if ch_data.std() == 0:\n",
    "                interical_sequester = True\n",
    "                \n",
    "        preictal_sequester = False\n",
    "        # Check preictal all zeroes\n",
    "        for j in range(num_channels):\n",
    "            ch_data = get_channel(preictal_df, j)\n",
    "            if ch_data.std() == 0:\n",
    "                preictal_sequester = True\n",
    "                \n",
    "        if interictal_sequester == True and preictal_sequester == False:\n",
    "            sequester_file(interictal_file_paths[i], main_dir + 'interictal_zeroes/')\n",
    "            sequester_file(preictal_file_paths[i], main_dir + 'interictal_zeroes/')\n",
    "            \n",
    "        elif interictal_sequester == False and preictal_sequester == True:\n",
    "            sequester_file(interictal_file_paths[i], main_dir + 'preictal_zeroes/')\n",
    "            sequester_file(preictal_file_paths[i], main_dir + 'preictal_zeroes/')\n",
    "            \n",
    "        elif interictal_sequester == True and preictal_sequester == True:\n",
    "            sequester_file(interictal_file_paths[i], main_dir + 'both_zeroes/')\n",
    "            sequester_file(preictal_file_paths[i], main_dir + 'both_zeroes/')\n",
    "                \n",
    "    except:\n",
    "        sequester_file(interictal_file_paths[i], main_dir + 'corrupt/')\n",
    "        sequester_file(preictal_file_paths[i], main_dir + 'corrupt/')"
   ]
  }
 ],
 "metadata": {
  "kernelspec": {
   "display_name": "Python 2",
   "language": "python",
   "name": "python2"
  },
  "language_info": {
   "codemirror_mode": {
    "name": "ipython",
    "version": 2
   },
   "file_extension": ".py",
   "mimetype": "text/x-python",
   "name": "python",
   "nbconvert_exporter": "python",
   "pygments_lexer": "ipython2",
   "version": "2.7.11"
  }
 },
 "nbformat": 4,
 "nbformat_minor": 0
}
